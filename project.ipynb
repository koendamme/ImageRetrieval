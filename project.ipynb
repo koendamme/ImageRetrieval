{
 "cells": [
  {
   "cell_type": "code",
   "execution_count": null,
   "metadata": {
    "collapsed": true
   },
   "outputs": [],
   "source": [
    "import json\n",
    "import numpy as np\n",
    "import h5py\n",
    "import matplotlib.pyplot as plt\n",
    "import tqdm\n",
    "\n",
    "# map\n",
    "with open(\"data02/database/database_lite.json\",\"r\") as f:\n",
    "    m_idx = json.load(f)\n",
    "    m_imgs = np.array(m_idx[\"im_paths\"])\n",
    "    m_loc=np.array(m_idx[\"loc\"])\n",
    "\n",
    "# query\n",
    "with open(\"data02/query/query_lite.json\",\"r\") as f:\n",
    "    q_idx=json.load(f)\n",
    "    q_imgs=np.array(q_idx[\"im_paths\"])\n",
    "    q_loc=np.array(q_idx[\"loc\"])\n"
   ]
  },
  {
   "cell_type": "code",
   "execution_count": null,
   "outputs": [],
   "source": [
    "with h5py.File(\"data02/london_lite_gt.h5\",\"r\") as f:\n",
    "    fovs = f[\"fov\"][:]\n",
    "    sim = f[\"sim\"][:].astype(np.uint8)"
   ],
   "metadata": {
    "collapsed": false
   }
  },
  {
   "cell_type": "code",
   "execution_count": null,
   "outputs": [],
   "source": [
    "import os\n",
    "import skimage\n",
    "from skimage.feature import ORB, SIFT\n",
    "from skimage.color import rgb2gray\n",
    "\n",
    "# Initialize the ORB descriptor\n",
    "orb = ORB(n_keypoints=50)\n",
    "sift = SIFT()\n",
    "# Initialize the data structure that will contain all the descriptors\n",
    "\n",
    "img = plt.imread(os.path.join('data02/', m_imgs[0]))\n",
    "img = rgb2gray(img)\n",
    "\n",
    "orb.detect_and_extract(img)\n",
    "orb_keypoints = orb.keypoints\n",
    "orb_descriptors = orb.descriptors\n",
    "\n",
    "sift.detect_and_extract(img)\n",
    "sift_keypoints = sift.keypoints\n",
    "sift_descriptors = sift.descriptors\n",
    "\n",
    "plt.imshow(img, cmap='gray')\n",
    "plt.scatter(orb_keypoints[:, 1], orb_keypoints[:, 0])\n",
    "plt.scatter(sift_keypoints[:, 1], sift_keypoints[:, 0], s=3)"
   ],
   "metadata": {
    "collapsed": false
   }
  },
  {
   "cell_type": "code",
   "execution_count": null,
   "outputs": [],
   "source": [
    "sift_descriptors.shape"
   ],
   "metadata": {
    "collapsed": false
   }
  },
  {
   "cell_type": "code",
   "execution_count": null,
   "outputs": [],
   "source": [],
   "metadata": {
    "collapsed": false
   }
  }
 ],
 "metadata": {
  "kernelspec": {
   "display_name": "Python 3",
   "language": "python",
   "name": "python3"
  },
  "language_info": {
   "codemirror_mode": {
    "name": "ipython",
    "version": 2
   },
   "file_extension": ".py",
   "mimetype": "text/x-python",
   "name": "python",
   "nbconvert_exporter": "python",
   "pygments_lexer": "ipython2",
   "version": "2.7.6"
  }
 },
 "nbformat": 4,
 "nbformat_minor": 0
}
