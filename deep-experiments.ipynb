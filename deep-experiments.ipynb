{
 "cells": [
  {
   "cell_type": "code",
   "execution_count": 1,
   "metadata": {
    "collapsed": true
   },
   "outputs": [],
   "source": [
    "import json\n",
    "import numpy as np\n",
    "import h5py\n",
    "import matplotlib.pyplot as plt\n",
    "from tqdm.notebook import tqdm\n",
    "from torchvision import models\n",
    "from torchvision import transforms\n",
    "import torch\n",
    "from torch.utils.data import Dataset, DataLoader\n",
    "import os\n",
    "import math\n",
    "from sklearn import preprocessing"
   ]
  },
  {
   "cell_type": "code",
   "execution_count": 2,
   "outputs": [],
   "source": [
    "with h5py.File(\"data02/london_lite_gt.h5\",\"r\") as f:\n",
    "    fovs = f[\"fov\"][:]\n",
    "    sim = f[\"sim\"][:].astype(np.uint8)"
   ],
   "metadata": {
    "collapsed": false
   }
  },
  {
   "cell_type": "code",
   "execution_count": 3,
   "outputs": [],
   "source": [
    "class CustomDataset(Dataset):\n",
    "    def __init__(self, root_dir, json_path, transform=None, n=8):\n",
    "        self.transform=transform\n",
    "        self.n = n\n",
    "        self.root_dir = root_dir\n",
    "        with open(json_path,\"r\") as f:\n",
    "            m_idx = json.load(f)\n",
    "            self.m_imgs = np.array(m_idx[\"im_paths\"])\n",
    "\n",
    "    def __len__(self):\n",
    "        return len(self.m_imgs)\n",
    "\n",
    "    def __getitem__(self, idx):\n",
    "        img = plt.imread(os.path.join(self.root_dir, self.m_imgs[idx]))\n",
    "\n",
    "        if self.transform:\n",
    "            img = self.transform(img)\n",
    "\n",
    "        return img"
   ],
   "metadata": {
    "collapsed": false
   }
  },
  {
   "cell_type": "code",
   "execution_count": 4,
   "outputs": [],
   "source": [
    "def find_global_features(loader, device, model):\n",
    "    global_features = None\n",
    "    for img_batch in tqdm(loader):\n",
    "        img_batch = img_batch.to(device)\n",
    "        with torch.no_grad():\n",
    "            output = model(img_batch)\n",
    "\n",
    "            # Pooling if model is densenet\n",
    "            if len(model) == 1:\n",
    "                output, _ = output.max(dim=2)  # Max pooling along the spatial dimensions (dim=2)\n",
    "                output, _ = output.max(dim=2)\n",
    "\n",
    "            if global_features is None:\n",
    "                global_features = output.cpu().numpy().squeeze()\n",
    "            else:\n",
    "                global_features = np.vstack((global_features, output.cpu().numpy().squeeze()))\n",
    "\n",
    "    return global_features"
   ],
   "metadata": {
    "collapsed": false
   }
  },
  {
   "cell_type": "code",
   "execution_count": 5,
   "outputs": [],
   "source": [
    "def manhatten(matrix, vector):\n",
    "    return np.linalg.norm(matrix - vector, axis=1, ord=1)\n",
    "\n",
    "def infinity(matrix, vector):\n",
    "    return np.linalg.norm(matrix - vector, axis=1, ord=math.inf)\n",
    "\n",
    "def eucledian(matrix, vector):\n",
    "    return np.linalg.norm(matrix - vector, axis=1)\n",
    "\n",
    "def cosine(matrix, vector):\n",
    "    dists = np.zeros(len(vector))\n",
    "    for i in range(matrix.shape[0]):\n",
    "        dists[i] = np.dot(matrix[i], vector) / (np.linalg.norm(matrix[i]) * np.linalg.norm(vector))\n",
    "\n",
    "    return -dists"
   ],
   "metadata": {
    "collapsed": false
   }
  },
  {
   "cell_type": "code",
   "execution_count": 6,
   "outputs": [],
   "source": [
    "def run_all_queries(device, model, distance_metric, bow_map_images, scaler):\n",
    "    q_database = CustomDataset(root_dir=\"data02\", json_path=\"data02/query/query_lite.json\", transform=transform)\n",
    "    all_relevant_images = []\n",
    "    all_retrieved_images = []\n",
    "    for query_idx in tqdm(range(len(q_database))):\n",
    "        img = q_database[query_idx]\n",
    "\n",
    "        # compute bag of words\n",
    "        with torch.no_grad():\n",
    "            img = img.to(device)\n",
    "            o = model(img[None, :])\n",
    "            # Pooling\n",
    "            if len(model) == 1:\n",
    "                o, _ = o.max(dim=2)  # Max pooling along the spatial dimensions (dim=2)\n",
    "                o, _ = o.max(dim=2)\n",
    "\n",
    "            repr = o.cpu().numpy().squeeze()\n",
    "\n",
    "        new_repr = scaler.transform(repr.reshape(-1, 1).transpose())\n",
    "        new_repr = new_repr.transpose().reshape(-1)\n",
    "\n",
    "        dists = distance_metric(bow_map_images, new_repr)\n",
    "        retrieved_images = np.argsort(np.array(dists))\n",
    "\n",
    "        all_retrieved_images.append(retrieved_images)\n",
    "        relevant_images = np.where(sim[query_idx, :] == 1)[0]\n",
    "        all_relevant_images.append(relevant_images)\n",
    "\n",
    "    return all_retrieved_images, all_relevant_images"
   ],
   "metadata": {
    "collapsed": false
   }
  },
  {
   "cell_type": "code",
   "execution_count": 7,
   "outputs": [],
   "source": [
    "def recall_at_k(relevant, retrieved, k):\n",
    "    return np.sum(np.in1d(relevant, retrieved[:k])) / len(relevant)\n",
    "\n",
    "def precision_at_k(relevant, retrieved, k):\n",
    "    tp = np.sum(np.in1d(relevant, retrieved[:k]))\n",
    "    return tp / k\n",
    "\n",
    "def average_precision(relevant, retrieved):\n",
    "    # BEGIN ANSWER\n",
    "    avg_prec = 0\n",
    "    for doc in relevant:\n",
    "        k = np.where(retrieved == doc)[0][0] + 1\n",
    "        avg_prec += precision_at_k(relevant, retrieved[:k], k)\n",
    "    return avg_prec/len(relevant)\n",
    "\n",
    "def mean_average_precision(all_relevant, all_retrieved):\n",
    "    # BEGIN ANSWER\n",
    "    total = 0\n",
    "    count = len(all_retrieved)\n",
    "\n",
    "    for qid in range(len(all_retrieved)):\n",
    "        avg_precision = average_precision(all_relevant[qid], all_retrieved[qid])\n",
    "        total += avg_precision\n",
    "    # END ANSWER\n",
    "    return total / count\n",
    "\n",
    "def average_recall_at_k(all_relevant, all_retrieved, k):\n",
    "    running_recall = 0\n",
    "    for relevant, retrieved in zip(all_relevant, all_retrieved):\n",
    "        r_k = recall_at_k(relevant, retrieved, k)\n",
    "        running_recall += r_k\n",
    "\n",
    "    return running_recall / len(all_relevant)"
   ],
   "metadata": {
    "collapsed": false
   }
  },
  {
   "cell_type": "code",
   "execution_count": 8,
   "outputs": [
    {
     "name": "stdout",
     "output_type": "stream",
     "text": [
      "Loaded device: cuda\n"
     ]
    }
   ],
   "source": [
    "device = torch.device(\"cuda\" if torch.cuda.is_available() else \"cpu\")\n",
    "print(f\"Loaded device: {device}\")"
   ],
   "metadata": {
    "collapsed": false
   }
  },
  {
   "cell_type": "code",
   "execution_count": 9,
   "outputs": [
    {
     "name": "stderr",
     "output_type": "stream",
     "text": [
      "C:\\Users\\koend\\anaconda3\\envs\\FIR\\lib\\site-packages\\torchvision\\models\\_utils.py:208: UserWarning: The parameter 'pretrained' is deprecated since 0.13 and may be removed in the future, please use 'weights' instead.\n",
      "  warnings.warn(\n",
      "C:\\Users\\koend\\anaconda3\\envs\\FIR\\lib\\site-packages\\torchvision\\models\\_utils.py:223: UserWarning: Arguments other than a weight enum or `None` for 'weights' are deprecated since 0.13 and may be removed in the future. The current behavior is equivalent to passing `weights=DenseNet201_Weights.IMAGENET1K_V1`. You can also use `weights=DenseNet201_Weights.DEFAULT` to get the most up-to-date weights.\n",
      "  warnings.warn(msg)\n"
     ]
    }
   ],
   "source": [
    "densenet = models.densenet201(pretrained=True)\n",
    "densenet = torch.nn.Sequential(*list(densenet.children())[:-1])\n",
    "densenet = densenet.to(device)"
   ],
   "metadata": {
    "collapsed": false
   }
  },
  {
   "cell_type": "code",
   "execution_count": 10,
   "outputs": [],
   "source": [
    "resnet = models.resnet101(weights=models.ResNet101_Weights.DEFAULT)\n",
    "resnet = torch.nn.Sequential(*(list(resnet.children())[:-1]))\n",
    "resnet = resnet.to(device)"
   ],
   "metadata": {
    "collapsed": false
   }
  },
  {
   "cell_type": "code",
   "execution_count": 11,
   "outputs": [
    {
     "data": {
      "text/plain": "  0%|          | 0/16 [00:00<?, ?it/s]",
      "application/vnd.jupyter.widget-view+json": {
       "version_major": 2,
       "version_minor": 0,
       "model_id": "b12e8c2a15a446f3a34f6311573c2a98"
      }
     },
     "metadata": {},
     "output_type": "display_data"
    },
    {
     "name": "stderr",
     "output_type": "stream",
     "text": [
      "C:\\Users\\koend\\anaconda3\\envs\\FIR\\lib\\site-packages\\torchvision\\transforms\\functional.py:152: UserWarning: The given NumPy array is not writable, and PyTorch does not support non-writable tensors. This means writing to this tensor will result in undefined behavior. You may want to copy the array to protect its data or make it writable before converting it to a tensor. This type of warning will be suppressed for the rest of this program. (Triggered internally at ..\\torch\\csrc\\utils\\tensor_numpy.cpp:212.)\n",
      "  img = torch.from_numpy(pic.transpose((2, 0, 1))).contiguous()\n"
     ]
    },
    {
     "data": {
      "text/plain": "  0%|          | 0/500 [00:00<?, ?it/s]",
      "application/vnd.jupyter.widget-view+json": {
       "version_major": 2,
       "version_minor": 0,
       "model_id": "fff6d777f9fa4b70950b0463032b1c45"
      }
     },
     "metadata": {},
     "output_type": "display_data"
    },
    {
     "name": "stdout",
     "output_type": "stream",
     "text": [
      "-------------\n",
      "Model: DenseNet202\n",
      "Distance metric: manhatten\n",
      "\n",
      "mAP: 0.01740713454047344\n",
      "Recall@1: 0.0019047619047619048\n",
      "Recall@5: 0.00659047619047619\n",
      "Recall@10: 0.01075714285714286\n",
      "-------------\n"
     ]
    },
    {
     "data": {
      "text/plain": "  0%|          | 0/16 [00:00<?, ?it/s]",
      "application/vnd.jupyter.widget-view+json": {
       "version_major": 2,
       "version_minor": 0,
       "model_id": "e73ce617ddb240ff8527ec6ce4168be3"
      }
     },
     "metadata": {},
     "output_type": "display_data"
    },
    {
     "data": {
      "text/plain": "  0%|          | 0/500 [00:00<?, ?it/s]",
      "application/vnd.jupyter.widget-view+json": {
       "version_major": 2,
       "version_minor": 0,
       "model_id": "32af14a8e499435eb6d80b2568a36785"
      }
     },
     "metadata": {},
     "output_type": "display_data"
    },
    {
     "name": "stdout",
     "output_type": "stream",
     "text": [
      "-------------\n",
      "Model: DenseNet202\n",
      "Distance metric: infinity\n",
      "\n",
      "mAP: 0.015798455704301287\n",
      "Recall@1: 0.0016666666666666666\n",
      "Recall@5: 0.007273874165050633\n",
      "Recall@10: 0.013471308593367428\n",
      "-------------\n"
     ]
    },
    {
     "data": {
      "text/plain": "  0%|          | 0/16 [00:00<?, ?it/s]",
      "application/vnd.jupyter.widget-view+json": {
       "version_major": 2,
       "version_minor": 0,
       "model_id": "6c806f2f987f4cc2852b8deb5febd91c"
      }
     },
     "metadata": {},
     "output_type": "display_data"
    },
    {
     "data": {
      "text/plain": "  0%|          | 0/500 [00:00<?, ?it/s]",
      "application/vnd.jupyter.widget-view+json": {
       "version_major": 2,
       "version_minor": 0,
       "model_id": "4d9bcb35f90d427a920dfba3a146b8a9"
      }
     },
     "metadata": {},
     "output_type": "display_data"
    },
    {
     "name": "stdout",
     "output_type": "stream",
     "text": [
      "-------------\n",
      "Model: DenseNet202\n",
      "Distance metric: eucledian\n",
      "\n",
      "mAP: 0.017119256023416938\n",
      "Recall@1: 0.002\n",
      "Recall@5: 0.00659047619047619\n",
      "Recall@10: 0.009257142857142858\n",
      "-------------\n"
     ]
    },
    {
     "data": {
      "text/plain": "  0%|          | 0/16 [00:00<?, ?it/s]",
      "application/vnd.jupyter.widget-view+json": {
       "version_major": 2,
       "version_minor": 0,
       "model_id": "7dd05904a8ad4c8aab85f508d8046a07"
      }
     },
     "metadata": {},
     "output_type": "display_data"
    },
    {
     "data": {
      "text/plain": "  0%|          | 0/500 [00:00<?, ?it/s]",
      "application/vnd.jupyter.widget-view+json": {
       "version_major": 2,
       "version_minor": 0,
       "model_id": "c58b626868ac4b798f9e6e55552b61bf"
      }
     },
     "metadata": {},
     "output_type": "display_data"
    },
    {
     "name": "stdout",
     "output_type": "stream",
     "text": [
      "-------------\n",
      "Model: DenseNet202\n",
      "Distance metric: cosine\n",
      "\n",
      "mAP: 0.02016750082234537\n",
      "Recall@1: 0.0028261671335200744\n",
      "Recall@5: 0.00838811319399555\n",
      "Recall@10: 0.017590648893590063\n",
      "-------------\n"
     ]
    },
    {
     "data": {
      "text/plain": "  0%|          | 0/16 [00:00<?, ?it/s]",
      "application/vnd.jupyter.widget-view+json": {
       "version_major": 2,
       "version_minor": 0,
       "model_id": "85f5b187f1f44bfbb696ed34a0ead7a0"
      }
     },
     "metadata": {},
     "output_type": "display_data"
    },
    {
     "data": {
      "text/plain": "  0%|          | 0/500 [00:00<?, ?it/s]",
      "application/vnd.jupyter.widget-view+json": {
       "version_major": 2,
       "version_minor": 0,
       "model_id": "46492b274ce945e88ecfcf95d3724e92"
      }
     },
     "metadata": {},
     "output_type": "display_data"
    },
    {
     "name": "stdout",
     "output_type": "stream",
     "text": [
      "-------------\n",
      "Model: ResNet101\n",
      "Distance metric: manhatten\n",
      "\n",
      "mAP: 0.033587130761912644\n",
      "Recall@1: 0.005690056022408963\n",
      "Recall@5: 0.022490381677146388\n",
      "Recall@10: 0.03414103918956859\n",
      "-------------\n"
     ]
    },
    {
     "data": {
      "text/plain": "  0%|          | 0/16 [00:00<?, ?it/s]",
      "application/vnd.jupyter.widget-view+json": {
       "version_major": 2,
       "version_minor": 0,
       "model_id": "840b7e6790ca45cfa3721795cfe95251"
      }
     },
     "metadata": {},
     "output_type": "display_data"
    },
    {
     "data": {
      "text/plain": "  0%|          | 0/500 [00:00<?, ?it/s]",
      "application/vnd.jupyter.widget-view+json": {
       "version_major": 2,
       "version_minor": 0,
       "model_id": "2efee81226f84b7aaa49b4f165eeb1ac"
      }
     },
     "metadata": {},
     "output_type": "display_data"
    },
    {
     "name": "stdout",
     "output_type": "stream",
     "text": [
      "-------------\n",
      "Model: ResNet101\n",
      "Distance metric: infinity\n",
      "\n",
      "mAP: 0.018969739733736914\n",
      "Recall@1: 0.002065079365079365\n",
      "Recall@5: 0.006748614130967076\n",
      "Recall@10: 0.018441075264604676\n",
      "-------------\n"
     ]
    },
    {
     "data": {
      "text/plain": "  0%|          | 0/16 [00:00<?, ?it/s]",
      "application/vnd.jupyter.widget-view+json": {
       "version_major": 2,
       "version_minor": 0,
       "model_id": "3f5bb9eeca764e7693b3d645605efc72"
      }
     },
     "metadata": {},
     "output_type": "display_data"
    },
    {
     "data": {
      "text/plain": "  0%|          | 0/500 [00:00<?, ?it/s]",
      "application/vnd.jupyter.widget-view+json": {
       "version_major": 2,
       "version_minor": 0,
       "model_id": "15079593e3774b56be5e9f9ed2192bca"
      }
     },
     "metadata": {},
     "output_type": "display_data"
    },
    {
     "name": "stdout",
     "output_type": "stream",
     "text": [
      "-------------\n",
      "Model: ResNet101\n",
      "Distance metric: eucledian\n",
      "\n",
      "mAP: 0.044482052902235725\n",
      "Recall@1: 0.008402826585179527\n",
      "Recall@5: 0.03169621914033678\n",
      "Recall@10: 0.054287435766847504\n",
      "-------------\n"
     ]
    },
    {
     "data": {
      "text/plain": "  0%|          | 0/16 [00:00<?, ?it/s]",
      "application/vnd.jupyter.widget-view+json": {
       "version_major": 2,
       "version_minor": 0,
       "model_id": "2b0038f0cdae43348830993d727234d7"
      }
     },
     "metadata": {},
     "output_type": "display_data"
    },
    {
     "data": {
      "text/plain": "  0%|          | 0/500 [00:00<?, ?it/s]",
      "application/vnd.jupyter.widget-view+json": {
       "version_major": 2,
       "version_minor": 0,
       "model_id": "b7ecd3da840c4d26a26d00d56029dc8f"
      }
     },
     "metadata": {},
     "output_type": "display_data"
    },
    {
     "name": "stdout",
     "output_type": "stream",
     "text": [
      "-------------\n",
      "Model: ResNet101\n",
      "Distance metric: cosine\n",
      "\n",
      "mAP: 0.037470544147174906\n",
      "Recall@1: 0.007610728976905449\n",
      "Recall@5: 0.030691665197547548\n",
      "Recall@10: 0.0502026455570573\n",
      "-------------\n"
     ]
    }
   ],
   "source": [
    "transform = transforms.Compose([\n",
    "    transforms.ToTensor(),\n",
    "    transforms.Resize((512, 512), antialias=False)\n",
    "])\n",
    "\n",
    "database = CustomDataset(root_dir=\"data02\", json_path=\"data02/database/database_lite.json\", transform=transform)\n",
    "loader = DataLoader(database, batch_size=64)\n",
    "\n",
    "for i, model in enumerate([densenet, resnet]):\n",
    "   for distance_metric in [manhatten, infinity, eucledian, cosine]:\n",
    "        global_features = find_global_features(loader, device, model)\n",
    "\n",
    "        # Compute z-score statistics\n",
    "        scaler = preprocessing.StandardScaler()\n",
    "        # Normalize the vectors of the map collection (0 mean and 1 std)\n",
    "        scaled_features = scaler.fit_transform(global_features)\n",
    "\n",
    "        all_retrieved_images, all_relevant_images = run_all_queries(device, model, distance_metric, global_features, scaler)\n",
    "\n",
    "        print(\"-------------\")\n",
    "        if i == 0:\n",
    "            print(\"Model: DenseNet202\")\n",
    "        else:\n",
    "            print(\"Model: ResNet101\")\n",
    "        print(f\"Distance metric: {distance_metric.__name__}\")\n",
    "        print(\"\")\n",
    "        mAP = mean_average_precision(all_relevant_images, all_retrieved_images)\n",
    "        print(f\"mAP: {mAP}\")\n",
    "        for k in [1, 5, 10]:\n",
    "            r_k = average_recall_at_k(all_relevant_images, all_retrieved_images, k)\n",
    "            print(f\"Recall@{k}: {r_k}\")\n",
    "        print(\"-------------\")"
   ],
   "metadata": {
    "collapsed": false
   }
  }
 ],
 "metadata": {
  "kernelspec": {
   "display_name": "Python 3",
   "language": "python",
   "name": "python3"
  },
  "language_info": {
   "codemirror_mode": {
    "name": "ipython",
    "version": 2
   },
   "file_extension": ".py",
   "mimetype": "text/x-python",
   "name": "python",
   "nbconvert_exporter": "python",
   "pygments_lexer": "ipython2",
   "version": "2.7.6"
  }
 },
 "nbformat": 4,
 "nbformat_minor": 0
}