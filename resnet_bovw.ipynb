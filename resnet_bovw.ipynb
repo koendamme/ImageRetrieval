{
 "cells": [
  {
   "cell_type": "code",
   "execution_count": 232,
   "metadata": {
    "collapsed": true
   },
   "outputs": [],
   "source": [
    "import json\n",
    "import numpy as np\n",
    "import h5py\n",
    "import matplotlib.pyplot as plt\n",
    "from tqdm.notebook import tqdm\n",
    "from torchvision import models\n",
    "from torchvision import transforms\n",
    "import torch\n",
    "from torch.utils.data import Dataset, DataLoader\n",
    "from sklearn.cluster import MiniBatchKMeans\n",
    "from sklearn.decomposition import PCA\n",
    "import os\n",
    "import math\n",
    "from sklearn import preprocessing"
   ]
  },
  {
   "cell_type": "code",
   "execution_count": 11,
   "outputs": [],
   "source": [
    "with h5py.File(\"data02/london_lite_gt.h5\",\"r\") as f:\n",
    "    fovs = f[\"fov\"][:]\n",
    "    sim = f[\"sim\"][:].astype(np.uint8)"
   ],
   "metadata": {
    "collapsed": false,
    "pycharm": {
     "name": "#%%\n"
    }
   }
  },
  {
   "cell_type": "code",
   "execution_count": 12,
   "outputs": [],
   "source": [
    "def bag_of_words(centroids, img_descriptors):\n",
    "    n_centroids = centroids.shape[0]  # number of centroids found with the KMeans clustering\n",
    "    n_descriptors = img_descriptors.shape[0]  # number of descriptors extracted from the image\n",
    "\n",
    "    bow_vector = np.zeros(n_centroids)\n",
    "\n",
    "    for i in range(n_descriptors):\n",
    "        idx = np.argmin(np.linalg.norm(centroids - img_descriptors[i], axis=1), axis=0)\n",
    "        bow_vector[idx] += 1\n",
    "    return bow_vector"
   ],
   "metadata": {
    "collapsed": false,
    "pycharm": {
     "name": "#%%\n"
    }
   }
  },
  {
   "cell_type": "code",
   "execution_count": 119,
   "outputs": [],
   "source": [
    "def img_to_grid(img, n):\n",
    "    assert math.log2(n).is_integer(), \"n must be a power of 2\"\n",
    "    part_size = img.shape[1]/n\n",
    "\n",
    "    parts = []\n",
    "    for i in range(n):\n",
    "        for j in range(n):\n",
    "            x_start_idx = int(i*part_size)\n",
    "            x_end_idx = int(i*part_size + part_size)\n",
    "\n",
    "            y_start_idx = int(j*part_size)\n",
    "            y_end_idx = int(j*part_size + part_size)\n",
    "\n",
    "            part = img[:, y_start_idx:y_end_idx, x_start_idx:x_end_idx]\n",
    "            parts.append(part)\n",
    "\n",
    "    return torch.stack(parts)"
   ],
   "metadata": {
    "collapsed": false,
    "pycharm": {
     "name": "#%%\n"
    }
   }
  },
  {
   "cell_type": "code",
   "execution_count": 99,
   "outputs": [],
   "source": [
    "class CustomDataset(Dataset):\n",
    "    def __init__(self, root_dir, json_path, transform=None, n=8):\n",
    "        self.transform=transform\n",
    "        self.n = n\n",
    "        self.root_dir = root_dir\n",
    "        with open(json_path,\"r\") as f:\n",
    "            m_idx = json.load(f)\n",
    "            self.m_imgs = np.array(m_idx[\"im_paths\"])\n",
    "\n",
    "    def __len__(self):\n",
    "        return len(self.m_imgs)\n",
    "\n",
    "    def __getitem__(self, idx):\n",
    "        img = plt.imread(os.path.join(self.root_dir, self.m_imgs[idx]))\n",
    "\n",
    "        if self.transform:\n",
    "            img = self.transform(img)\n",
    "\n",
    "        return img"
   ],
   "metadata": {
    "collapsed": false,
    "pycharm": {
     "name": "#%%\n"
    }
   }
  },
  {
   "cell_type": "code",
   "execution_count": 257,
   "outputs": [
    {
     "name": "stdout",
     "output_type": "stream",
     "text": [
      "Loaded device: cuda\n"
     ]
    }
   ],
   "source": [
    "# def create_deep_descriptors():\n",
    "device = torch.device(\"cuda\" if torch.cuda.is_available() else \"cpu\")\n",
    "print(f\"Loaded device: {device}\")\n",
    "\n",
    "model = models.resnet50(weights=models.ResNet50_Weights.DEFAULT)\n",
    "model = torch.nn.Sequential(*(list(model.children())[:-1]))\n",
    "model = model.to(device)"
   ],
   "metadata": {
    "collapsed": false,
    "pycharm": {
     "name": "#%%\n"
    }
   }
  },
  {
   "cell_type": "code",
   "execution_count": 258,
   "outputs": [
    {
     "name": "stdout",
     "output_type": "stream",
     "text": [
      "Finding centroids...\n"
     ]
    },
    {
     "data": {
      "text/plain": "  0%|          | 0/1000 [00:00<?, ?it/s]",
      "application/vnd.jupyter.widget-view+json": {
       "version_major": 2,
       "version_minor": 0,
       "model_id": "b374554bd59643208859147c59e02f78"
      }
     },
     "metadata": {},
     "output_type": "display_data"
    },
    {
     "name": "stderr",
     "output_type": "stream",
     "text": [
      "C:\\Users\\koend\\anaconda3\\envs\\FIR\\lib\\site-packages\\sklearn\\cluster\\_kmeans.py:1934: FutureWarning: The default value of `n_init` will change from 3 to 'auto' in 1.4. Set the value of `n_init` explicitly to suppress the warning\n",
      "  super()._check_params_vs_input(X, default_n_init=3)\n"
     ]
    }
   ],
   "source": [
    "transform = transforms.Compose([\n",
    "    transforms.ToTensor(),\n",
    "    transforms.Resize((256, 256), antialias=False),\n",
    "    # transforms.Normalize(mean=0.5, std=0.1)\n",
    "])\n",
    "\n",
    "n_patch = 16\n",
    "\n",
    "database = CustomDataset(root_dir=\"data02\", json_path=\"data02/database/database_lite.json\", transform=transform)\n",
    "# loader = DataLoader(database, batch_size=batch_size)\n",
    "\n",
    "kmeans = MiniBatchKMeans(n_clusters=100, random_state=0, batch_size=n_patch**2)\n",
    "\n",
    "# Find centroids\n",
    "print(\"Finding centroids...\")\n",
    "for img in tqdm(database):\n",
    "    patches = img_to_grid(img, n_patch)\n",
    "    patches = patches.to(device)\n",
    "    with torch.no_grad():\n",
    "        output = model(patches)\n",
    "        kmeans.partial_fit(output.cpu()[:, :, 0, 0])\n",
    "\n",
    "centroids = kmeans.cluster_centers_"
   ],
   "metadata": {
    "collapsed": false,
    "pycharm": {
     "name": "#%%\n"
    }
   }
  },
  {
   "cell_type": "code",
   "execution_count": 262,
   "outputs": [
    {
     "data": {
      "text/plain": "(array([[0.01451285, 0.09002747, 0.018005  , ..., 0.00767836, 0.00504793,\n         0.00646481],\n        [0.00620797, 0.00703138, 0.02261735, ..., 0.02402453, 0.00089276,\n         0.00032571],\n        [0.02473735, 0.04873321, 0.00551227, ..., 0.01359658, 0.00203635,\n         0.        ],\n        ...,\n        [0.        , 0.00414484, 0.00367822, ..., 0.0021011 , 0.        ,\n         0.        ],\n        [0.01788906, 0.01502565, 0.01054014, ..., 0.01663597, 0.00164475,\n         0.0057544 ],\n        [0.0552277 , 0.0375053 , 0.01167264, ..., 0.00547053, 0.01627882,\n         0.00460557]]),\n (100, 2048))"
     },
     "execution_count": 262,
     "metadata": {},
     "output_type": "execute_result"
    }
   ],
   "source": [
    "centroids, centroids.shape"
   ],
   "metadata": {
    "collapsed": false,
    "pycharm": {
     "name": "#%%\n"
    }
   }
  },
  {
   "cell_type": "code",
   "execution_count": 259,
   "outputs": [
    {
     "name": "stdout",
     "output_type": "stream",
     "text": [
      "Finding centroids...\n"
     ]
    },
    {
     "data": {
      "text/plain": "  0%|          | 0/1000 [00:00<?, ?it/s]",
      "application/vnd.jupyter.widget-view+json": {
       "version_major": 2,
       "version_minor": 0,
       "model_id": "98ea777219a441b1a67c5566c36da987"
      }
     },
     "metadata": {},
     "output_type": "display_data"
    }
   ],
   "source": [
    "# Create BoVW vectors\n",
    "print(\"Finding centroids...\")\n",
    "bow_map_images = None\n",
    "for img in tqdm(database):\n",
    "    patches = img_to_grid(img, n_patch)\n",
    "    patches = patches.to(device)\n",
    "    with torch.no_grad():\n",
    "        output = model(patches)\n",
    "        bow = bag_of_words(centroids, output.cpu().numpy()[:, :, 0, 0])\n",
    "        if bow_map_images is None:\n",
    "            bow_map_images = bow\n",
    "        else:\n",
    "            bow_map_images = np.vstack( (bow_map_images, bow))"
   ],
   "metadata": {
    "collapsed": false,
    "pycharm": {
     "name": "#%%\n"
    }
   }
  },
  {
   "cell_type": "code",
   "execution_count": 216,
   "outputs": [
    {
     "data": {
      "text/plain": "(1000, 100)"
     },
     "execution_count": 216,
     "metadata": {},
     "output_type": "execute_result"
    }
   ],
   "source": [
    "bow_map_images.shape"
   ],
   "metadata": {
    "collapsed": false,
    "pycharm": {
     "name": "#%%\n"
    }
   }
  },
  {
   "cell_type": "code",
   "execution_count": 264,
   "outputs": [],
   "source": [
    "orig_bow_map_images = bow_map_images\n",
    "\n",
    "# Compute z-score statistics\n",
    "scaler = preprocessing.StandardScaler().fit(bow_map_images)\n",
    "# Normalize the vectors of the map collection (0 mean and 1 std)\n",
    "bow_map_images = scaler.transform(bow_map_images)"
   ],
   "metadata": {
    "collapsed": false,
    "pycharm": {
     "name": "#%%\n"
    }
   }
  },
  {
   "cell_type": "code",
   "execution_count": 218,
   "outputs": [
    {
     "data": {
      "text/plain": "1.0000000000000002"
     },
     "execution_count": 218,
     "metadata": {},
     "output_type": "execute_result"
    }
   ],
   "source": [
    "np.std(bow_map_images)"
   ],
   "metadata": {
    "collapsed": false,
    "pycharm": {
     "name": "#%%\n"
    }
   }
  },
  {
   "cell_type": "code",
   "execution_count": 219,
   "outputs": [
    {
     "data": {
      "text/plain": "array([-1.25284298e+00, -1.75682956e+00, -8.92920419e-01, -8.06761864e-01,\n        5.53245583e-02, -9.22878624e-01,  1.25517999e-01, -1.19231761e+00,\n        1.73835091e+01, -6.93772467e-01,  1.41132408e+00, -9.51077475e-01,\n       -1.25269228e+00,  1.59098090e+00, -6.61009297e-01,  9.41359370e-01,\n        3.51867398e-01,  1.04725923e+00,  8.95975042e-01, -1.27497263e+00,\n       -7.78696646e-01,  9.36309502e-01, -8.39247570e-01, -1.15045881e+00,\n       -5.13443778e-01, -7.24347516e-01, -1.15382099e+00, -1.01312822e+00,\n       -1.23952990e+00, -9.37047798e-02, -1.03242646e+00, -3.86180051e-01,\n       -8.64762026e-01,  2.32637328e-01,  1.26098418e+00,  1.66870688e+00,\n        7.61344104e-01,  5.31514076e-01, -5.71267718e-01, -1.40905006e+00,\n        2.29054842e+00, -1.40081930e+00, -1.17168131e+00,  1.05104975e-02,\n       -1.52555649e+00, -1.25057429e+00,  5.79115834e-02, -8.77008416e-01,\n       -8.69974474e-01, -1.79412202e+00,  1.19653002e+00,  2.08754219e+00,\n       -3.02918659e-01, -8.01463866e-01, -5.67075281e-01, -9.18881747e-01,\n       -1.20793613e+00, -7.03210846e-01, -7.80136556e-01,  2.15926749e-01,\n       -5.98930701e-01,  1.62237218e-01, -9.32203785e-01,  3.03107772e-01,\n       -1.54039492e+00, -8.04646794e-01, -6.44223109e-01,  3.32810749e+00,\n       -1.28526965e+00, -7.15642397e-01, -6.23174060e-01, -4.76055127e-01,\n        3.81609133e-01, -7.47321418e-01, -1.19404583e+00, -6.22359230e-01,\n       -8.30420204e-01, -1.11417500e+00, -1.21580525e+00, -1.91489685e+00,\n       -1.08152827e+00,  8.79895895e-01, -1.18613746e+00, -7.88057642e-01,\n       -1.37048178e+00, -8.49871913e-01, -8.80432267e-01, -1.09432002e+00,\n       -1.04431717e+00, -1.00527913e+00,  2.33126202e-01,  4.15504756e-01,\n       -9.54765903e-01, -1.17616931e+00, -3.00814267e-01,  1.13650883e+00,\n       -1.02402038e-01, -8.34740193e-01, -7.63144652e-01,  1.12409944e+00])"
     },
     "execution_count": 219,
     "metadata": {},
     "output_type": "execute_result"
    }
   ],
   "source": [
    "bow_map_images[0]"
   ],
   "metadata": {
    "collapsed": false,
    "pycharm": {
     "name": "#%%\n"
    }
   }
  },
  {
   "cell_type": "code",
   "execution_count": 265,
   "outputs": [
    {
     "name": "stdout",
     "output_type": "stream",
     "text": [
      "0: 0 / 1\n",
      "\n",
      "1: 0 / 2\n",
      "\n",
      "2: 0 / 2\n",
      "\n",
      "3: 0 / 3\n",
      "\n",
      "4: 0 / 3\n",
      "\n",
      "5: 0 / 3\n",
      "\n",
      "6: 1 / 5\n",
      "\n",
      "7: 0 / 6\n",
      "\n",
      "8: 0 / 7\n",
      "\n",
      "9: 0 / 8\n",
      "\n",
      "10: 1 / 9\n",
      "\n",
      "11: 1 / 10\n",
      "\n",
      "12: 1 / 11\n",
      "\n",
      "13: 1 / 13\n",
      "\n",
      "14: 5 / 14\n",
      "\n",
      "15: 1 / 16\n",
      "\n",
      "16: 1 / 17\n",
      "\n",
      "17: 1 / 17\n",
      "\n",
      "18: 1 / 17\n",
      "\n",
      "19: 1 / 17\n",
      "\n",
      "20: 1 / 17\n",
      "\n",
      "21: 0 / 17\n",
      "\n",
      "22: 0 / 17\n",
      "\n",
      "23: 0 / 17\n",
      "\n",
      "24: 0 / 17\n",
      "\n",
      "25: 1 / 17\n",
      "\n",
      "26: 2 / 17\n",
      "\n",
      "27: 0 / 17\n",
      "\n",
      "28: 0 / 17\n",
      "\n",
      "29: 0 / 16\n",
      "\n",
      "30: 1 / 15\n",
      "\n",
      "31: 1 / 5\n",
      "\n",
      "32: 0 / 5\n",
      "\n",
      "33: 0 / 6\n",
      "\n",
      "34: 1 / 6\n",
      "\n",
      "35: 1 / 6\n",
      "\n",
      "36: 1 / 6\n",
      "\n",
      "37: 1 / 6\n",
      "\n",
      "38: 0 / 6\n",
      "\n",
      "39: 1 / 6\n",
      "\n",
      "40: 0 / 6\n",
      "\n",
      "41: 0 / 2\n",
      "\n",
      "42: 0 / 2\n",
      "\n",
      "43: 0 / 4\n",
      "\n",
      "44: 0 / 3\n",
      "\n",
      "45: 1 / 3\n",
      "\n",
      "46: 1 / 3\n",
      "\n",
      "47: 1 / 2\n",
      "\n",
      "48: 0 / 2\n",
      "\n",
      "49: 0 / 2\n",
      "\n",
      "50: 0 / 11\n",
      "\n",
      "51: 1 / 12\n",
      "\n",
      "52: 0 / 13\n",
      "\n",
      "53: 1 / 13\n",
      "\n",
      "54: 0 / 13\n",
      "\n",
      "55: 0 / 30\n",
      "\n",
      "56: 3 / 30\n",
      "\n",
      "57: 3 / 30\n",
      "\n",
      "58: 3 / 30\n",
      "\n",
      "59: 3 / 30\n",
      "\n",
      "60: 2 / 30\n",
      "\n",
      "61: 2 / 27\n",
      "\n",
      "62: 0 / 5\n",
      "\n",
      "63: 1 / 5\n",
      "\n",
      "64: 0 / 3\n",
      "\n",
      "65: 0 / 2\n",
      "\n",
      "66: 0 / 3\n",
      "\n",
      "67: 0 / 4\n",
      "\n",
      "68: 1 / 7\n",
      "\n",
      "69: 1 / 6\n",
      "\n",
      "70: 1 / 5\n",
      "\n",
      "71: 0 / 4\n",
      "\n",
      "72: 0 / 3\n",
      "\n"
     ]
    },
    {
     "ename": "KeyboardInterrupt",
     "evalue": "",
     "output_type": "error",
     "traceback": [
      "\u001B[1;31m---------------------------------------------------------------------------\u001B[0m",
      "\u001B[1;31mKeyboardInterrupt\u001B[0m                         Traceback (most recent call last)",
      "Cell \u001B[1;32mIn[265], line 17\u001B[0m\n\u001B[0;32m     15\u001B[0m \u001B[38;5;28;01mwith\u001B[39;00m torch\u001B[38;5;241m.\u001B[39mno_grad():\n\u001B[0;32m     16\u001B[0m     output \u001B[38;5;241m=\u001B[39m model(patches)\n\u001B[1;32m---> 17\u001B[0m     bow \u001B[38;5;241m=\u001B[39m \u001B[43mbag_of_words\u001B[49m\u001B[43m(\u001B[49m\u001B[43mcentroids\u001B[49m\u001B[43m,\u001B[49m\u001B[43m \u001B[49m\u001B[43moutput\u001B[49m\u001B[38;5;241;43m.\u001B[39;49m\u001B[43mcpu\u001B[49m\u001B[43m(\u001B[49m\u001B[43m)\u001B[49m\u001B[38;5;241;43m.\u001B[39;49m\u001B[43mnumpy\u001B[49m\u001B[43m(\u001B[49m\u001B[43m)\u001B[49m\u001B[43m[\u001B[49m\u001B[43m:\u001B[49m\u001B[43m,\u001B[49m\u001B[43m \u001B[49m\u001B[43m:\u001B[49m\u001B[43m,\u001B[49m\u001B[43m \u001B[49m\u001B[38;5;241;43m0\u001B[39;49m\u001B[43m,\u001B[49m\u001B[43m \u001B[49m\u001B[38;5;241;43m0\u001B[39;49m\u001B[43m]\u001B[49m\u001B[43m)\u001B[49m\n\u001B[0;32m     19\u001B[0m \u001B[38;5;66;03m# Normalize the query BoW vector using the mean and variance of the map (computed earlier and saved into the scaler object)\u001B[39;00m\n\u001B[0;32m     20\u001B[0m bow \u001B[38;5;241m=\u001B[39m scaler\u001B[38;5;241m.\u001B[39mtransform(bow\u001B[38;5;241m.\u001B[39mreshape(\u001B[38;5;241m-\u001B[39m\u001B[38;5;241m1\u001B[39m, \u001B[38;5;241m1\u001B[39m)\u001B[38;5;241m.\u001B[39mtranspose())\n",
      "Cell \u001B[1;32mIn[12], line 8\u001B[0m, in \u001B[0;36mbag_of_words\u001B[1;34m(centroids, img_descriptors)\u001B[0m\n\u001B[0;32m      5\u001B[0m bow_vector \u001B[38;5;241m=\u001B[39m np\u001B[38;5;241m.\u001B[39mzeros(n_centroids)\n\u001B[0;32m      7\u001B[0m \u001B[38;5;28;01mfor\u001B[39;00m i \u001B[38;5;129;01min\u001B[39;00m \u001B[38;5;28mrange\u001B[39m(n_descriptors):\n\u001B[1;32m----> 8\u001B[0m     idx \u001B[38;5;241m=\u001B[39m np\u001B[38;5;241m.\u001B[39margmin(\u001B[43mnp\u001B[49m\u001B[38;5;241;43m.\u001B[39;49m\u001B[43mlinalg\u001B[49m\u001B[38;5;241;43m.\u001B[39;49m\u001B[43mnorm\u001B[49m\u001B[43m(\u001B[49m\u001B[43mcentroids\u001B[49m\u001B[43m \u001B[49m\u001B[38;5;241;43m-\u001B[39;49m\u001B[43m \u001B[49m\u001B[43mimg_descriptors\u001B[49m\u001B[43m[\u001B[49m\u001B[43mi\u001B[49m\u001B[43m]\u001B[49m\u001B[43m,\u001B[49m\u001B[43m \u001B[49m\u001B[43maxis\u001B[49m\u001B[38;5;241;43m=\u001B[39;49m\u001B[38;5;241;43m1\u001B[39;49m\u001B[43m)\u001B[49m, axis\u001B[38;5;241m=\u001B[39m\u001B[38;5;241m0\u001B[39m)\n\u001B[0;32m      9\u001B[0m     bow_vector[idx] \u001B[38;5;241m+\u001B[39m\u001B[38;5;241m=\u001B[39m \u001B[38;5;241m1\u001B[39m\n\u001B[0;32m     10\u001B[0m \u001B[38;5;28;01mreturn\u001B[39;00m bow_vector\n",
      "File \u001B[1;32m~\\anaconda3\\envs\\FIR\\lib\\site-packages\\numpy\\linalg\\linalg.py:2583\u001B[0m, in \u001B[0;36mnorm\u001B[1;34m(x, ord, axis, keepdims)\u001B[0m\n\u001B[0;32m   2580\u001B[0m \u001B[38;5;28;01melif\u001B[39;00m \u001B[38;5;28mord\u001B[39m \u001B[38;5;129;01mis\u001B[39;00m \u001B[38;5;28;01mNone\u001B[39;00m \u001B[38;5;129;01mor\u001B[39;00m \u001B[38;5;28mord\u001B[39m \u001B[38;5;241m==\u001B[39m \u001B[38;5;241m2\u001B[39m:\n\u001B[0;32m   2581\u001B[0m     \u001B[38;5;66;03m# special case for speedup\u001B[39;00m\n\u001B[0;32m   2582\u001B[0m     s \u001B[38;5;241m=\u001B[39m (x\u001B[38;5;241m.\u001B[39mconj() \u001B[38;5;241m*\u001B[39m x)\u001B[38;5;241m.\u001B[39mreal\n\u001B[1;32m-> 2583\u001B[0m     \u001B[38;5;28;01mreturn\u001B[39;00m sqrt(\u001B[43madd\u001B[49m\u001B[38;5;241;43m.\u001B[39;49m\u001B[43mreduce\u001B[49m\u001B[43m(\u001B[49m\u001B[43ms\u001B[49m\u001B[43m,\u001B[49m\u001B[43m \u001B[49m\u001B[43maxis\u001B[49m\u001B[38;5;241;43m=\u001B[39;49m\u001B[43maxis\u001B[49m\u001B[43m,\u001B[49m\u001B[43m \u001B[49m\u001B[43mkeepdims\u001B[49m\u001B[38;5;241;43m=\u001B[39;49m\u001B[43mkeepdims\u001B[49m\u001B[43m)\u001B[49m)\n\u001B[0;32m   2584\u001B[0m \u001B[38;5;66;03m# None of the str-type keywords for ord ('fro', 'nuc')\u001B[39;00m\n\u001B[0;32m   2585\u001B[0m \u001B[38;5;66;03m# are valid for vectors\u001B[39;00m\n\u001B[0;32m   2586\u001B[0m \u001B[38;5;28;01melif\u001B[39;00m \u001B[38;5;28misinstance\u001B[39m(\u001B[38;5;28mord\u001B[39m, \u001B[38;5;28mstr\u001B[39m):\n",
      "\u001B[1;31mKeyboardInterrupt\u001B[0m: "
     ]
    }
   ],
   "source": [
    "def retrieve_images(map_bow_vectors, query_bow):\n",
    "    # dists = np.linalg.norm(map_bow_vectors - query_bow, axis=1)\n",
    "    #\n",
    "    # idxs = np.argsort(np.linalg.norm(map_bow_vectors - query_bow, axis=1))\n",
    "    # print(dists[idxs][:20])\n",
    "    return np.argsort(np.linalg.norm(map_bow_vectors - query_bow, axis=1))\n",
    "\n",
    "q_database = CustomDataset(root_dir=\"data02\", json_path=\"data02/query/query_lite.json\", transform=transform)\n",
    "# q_loader = DataLoader(database, batch_size=1)\n",
    "\n",
    "# query_idx = 100\n",
    "for query_idx, q_image in enumerate(q_database):\n",
    "    patches = img_to_grid(q_image, n_patch)\n",
    "    patches = patches.to(device)\n",
    "    with torch.no_grad():\n",
    "        output = model(patches)\n",
    "        bow = bag_of_words(centroids, output.cpu().numpy()[:, :, 0, 0])\n",
    "\n",
    "    # Normalize the query BoW vector using the mean and variance of the map (computed earlier and saved into the scaler object)\n",
    "    bow = scaler.transform(bow.reshape(-1, 1).transpose())\n",
    "    bow = bow.transpose().reshape(-1)\n",
    "\n",
    "    # # Retrieve the indices of the top-10 similar images from the map\n",
    "    retrieved_images = retrieve_images(bow_map_images, bow)\n",
    "    # print('Indices of similar images retrieved: ', retrieved_images[:50])\n",
    "    # # Indices of the relevant map images for the query: we have the relevance judgements (Ground truth)\n",
    "    relevant_images = np.where(sim[query_idx, :] == 1)[0]\n",
    "    # print('Indices of relevant images (given in the GT relevance judgements): ', relevant_images)\n",
    "    print(f\"{query_idx}: {len(set(retrieved_images[:50]).intersection(set(relevant_images)))} / {len(relevant_images)}\")\n",
    "    print()\n",
    "    # if len(set(retrieved_images).intersection(set(relevant_images))) != len(relevant_images):\n",
    "    #     print(f\"{query_idx}: {len(set(retrieved_images).intersection(set(relevant_images)))} / {len(relevant_images)}\")"
   ],
   "metadata": {
    "collapsed": false,
    "pycharm": {
     "name": "#%%\n"
    }
   }
  },
  {
   "cell_type": "code",
   "execution_count": 230,
   "outputs": [
    {
     "data": {
      "text/plain": "(1000, 100)"
     },
     "execution_count": 230,
     "metadata": {},
     "output_type": "execute_result"
    }
   ],
   "source": [
    "bow_map_images.shape"
   ],
   "metadata": {
    "collapsed": false,
    "pycharm": {
     "name": "#%%\n"
    }
   }
  },
  {
   "cell_type": "code",
   "execution_count": 236,
   "outputs": [],
   "source": [
    "pca = PCA(n_components=2)\n",
    "decomposed = pca.fit_transform(bow_map_images)"
   ],
   "metadata": {
    "collapsed": false,
    "pycharm": {
     "name": "#%%\n"
    }
   }
  },
  {
   "cell_type": "code",
   "execution_count": null,
   "outputs": [],
   "source": [],
   "metadata": {
    "collapsed": false,
    "pycharm": {
     "name": "#%%\n"
    }
   }
  },
  {
   "cell_type": "code",
   "execution_count": 245,
   "outputs": [
    {
     "data": {
      "text/plain": "<matplotlib.collections.PathCollection at 0x1d1f31c6e00>"
     },
     "execution_count": 245,
     "metadata": {},
     "output_type": "execute_result"
    },
    {
     "data": {
      "text/plain": "<Figure size 640x480 with 1 Axes>",
      "image/png": "[encoded data removed]"
     },
     "metadata": {},
     "output_type": "display_data"
    }
   ],
   "source": [
    "q_idx = 150\n",
    "\n",
    "# query_idx = 100\n",
    "patches = img_to_grid(q_database[q_idx], n_patch)\n",
    "patches = patches.to(device)\n",
    "output = model(patches)\n",
    "bow = bag_of_words(centroids, output.detach().cpu().numpy()[:, :, 0, 0])\n",
    "bow = scaler.transform(bow.reshape(-1, 1).transpose())\n",
    "bow = bow.transpose().reshape(-1)\n",
    "bow = pca.transform(bow[None, :])\n",
    "\n",
    "rel = np.where(sim[q_idx, :] == 1)\n",
    "\n",
    "plt.scatter(decomposed[:, 0], decomposed[:, 1])\n",
    "plt.scatter(decomposed[rel, 0], decomposed[rel, 1])\n",
    "plt.scatter(bow[0, 0], bow[0, 1])"
   ],
   "metadata": {
    "collapsed": false,
    "pycharm": {
     "name": "#%%\n"
    }
   }
  },
  {
   "cell_type": "code",
   "execution_count": null,
   "outputs": [],
   "source": [],
   "metadata": {
    "collapsed": false,
    "pycharm": {
     "name": "#%%\n"
    }
   }
  }
 ],
 "metadata": {
  "kernelspec": {
   "display_name": "Python 3",
   "language": "python",
   "name": "python3"
  },
  "language_info": {
   "codemirror_mode": {
    "name": "ipython",
    "version": 2
   },
   "file_extension": ".py",
   "mimetype": "text/x-python",
   "name": "python",
   "nbconvert_exporter": "python",
   "pygments_lexer": "ipython2",
   "version": "2.7.6"
  }
 },
 "nbformat": 4,
 "nbformat_minor": 0
}