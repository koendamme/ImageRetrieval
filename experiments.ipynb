{
 "cells": [
  {
   "cell_type": "code",
   "execution_count": 14,
   "metadata": {
    "collapsed": true
   },
   "outputs": [],
   "source": [
    "# SIFT Features, ORB Features, Deep\n",
    "# Cosine, euclidean, etc\n",
    "# BoW, VLAD\n",
    "# Differnt k (# of clusters)"
   ]
  },
  {
   "cell_type": "code",
   "execution_count": 15,
   "outputs": [],
   "source": [
    "import json\n",
    "import numpy as np\n",
    "import h5py\n",
    "import matplotlib.pyplot as plt\n",
    "import os\n",
    "from tqdm.notebook import tqdm\n",
    "from skimage.color import rgb2gray\n",
    "from skimage.feature import SIFT, ORB\n",
    "from sklearn.cluster import KMeans\n",
    "from sklearn import preprocessing\n",
    "import pickle\n",
    "import math"
   ],
   "metadata": {
    "collapsed": false
   }
  },
  {
   "cell_type": "code",
   "execution_count": 16,
   "outputs": [],
   "source": [
    "# map\n",
    "with open(\"data02/database/database_lite.json\", \"r\") as f:\n",
    "    m_idx = json.load(f)\n",
    "    m_imgs = np.array(m_idx[\"im_paths\"])\n",
    "    m_loc = np.array(m_idx[\"loc\"])\n",
    "\n",
    "# query\n",
    "with open(\"data02/query/query_lite.json\", \"r\") as f:\n",
    "    q_idx = json.load(f)\n",
    "    q_imgs = np.array(q_idx[\"im_paths\"])\n",
    "    q_loc = np.array(q_idx[\"loc\"])\n",
    "\n",
    "with h5py.File(\"data02/london_lite_gt.h5\", \"r\") as f:\n",
    "    fovs = f[\"fov\"][:]\n",
    "    sim = f[\"sim\"][:].astype(np.uint8)"
   ],
   "metadata": {
    "collapsed": false
   }
  },
  {
   "cell_type": "code",
   "execution_count": 17,
   "outputs": [],
   "source": [
    "def extract_all_descriptors(extractor):\n",
    "    descriptors = None\n",
    "\n",
    "    for img_name in tqdm(m_imgs):\n",
    "        img = plt.imread(os.path.join('data02', img_name))\n",
    "        img = rgb2gray(img)\n",
    "\n",
    "        d = extractor(img)\n",
    "\n",
    "        if descriptors is None:\n",
    "            descriptors = d\n",
    "        else:\n",
    "            descriptors = np.vstack((descriptors, d))\n",
    "\n",
    "    return descriptors"
   ],
   "metadata": {
    "collapsed": false
   }
  },
  {
   "cell_type": "code",
   "execution_count": 18,
   "outputs": [],
   "source": [
    "def find_centroids(descriptors, k):\n",
    "    kmeans = KMeans(n_clusters=k, random_state=0, n_init=5, verbose=0)\n",
    "    clusters = kmeans.fit(descriptors)\n",
    "    return clusters.cluster_centers_\n"
   ],
   "metadata": {
    "collapsed": false
   }
  },
  {
   "cell_type": "code",
   "execution_count": 19,
   "outputs": [],
   "source": [
    "def manhatten(matrix, vector):\n",
    "    return np.linalg.norm(matrix - vector, axis=1, ord=1)\n",
    "\n",
    "def infinity(matrix, vector):\n",
    "    return np.linalg.norm(matrix - vector, axis=1, ord=math.inf)\n",
    "\n",
    "def eucledian(matrix, vector):\n",
    "    return np.linalg.norm(matrix - vector, axis=1)\n",
    "\n",
    "def cosine(matrix, vector):\n",
    "    dists = np.zeros(matrix.shape[0])\n",
    "    for i in range(matrix.shape[0]):\n",
    "        dists[i] = np.dot(matrix[i], vector) / (np.linalg.norm(matrix[i]) * np.linalg.norm(vector))\n",
    "\n",
    "    return -dists"
   ],
   "metadata": {
    "collapsed": false
   }
  },
  {
   "cell_type": "code",
   "execution_count": 20,
   "outputs": [],
   "source": [
    "def extract_with_sift(image):\n",
    "    sift = SIFT()\n",
    "    sift.detect_and_extract(image)\n",
    "    return sift.descriptors\n",
    "\n",
    "def extract_with_orb(image):\n",
    "    orb = ORB()\n",
    "    orb.detect_and_extract(image)\n",
    "    return orb.descriptors"
   ],
   "metadata": {
    "collapsed": false
   }
  },
  {
   "cell_type": "code",
   "execution_count": 21,
   "outputs": [],
   "source": [
    "def bag_of_words(centroids, img_descriptors, distance_metric):\n",
    "    n_centroids = centroids.shape[0]  # number of centroids found with the KMeans clustering\n",
    "    n_descriptors = img_descriptors.shape[0]  # number of descriptors extracted from the image\n",
    "\n",
    "    bow_vector = np.zeros(n_centroids)\n",
    "\n",
    "    for i in range(n_descriptors):\n",
    "        dists = distance_metric(centroids, img_descriptors[i])\n",
    "        idx = np.argmin(dists)\n",
    "        bow_vector[idx] += 1\n",
    "    return bow_vector"
   ],
   "metadata": {
    "collapsed": false
   }
  },
  {
   "cell_type": "code",
   "execution_count": 22,
   "outputs": [],
   "source": [
    "def create_all_bow_vectors(extractor, centroids, distance_metric):\n",
    "    bow_map_images = None\n",
    "    for img_name in tqdm(m_imgs):\n",
    "        img = plt.imread(os.path.join('data02', img_name))\n",
    "        img = rgb2gray(img)\n",
    "\n",
    "        img_descriptors = extractor(img)  # descriptors (the feature vectors)\n",
    "\n",
    "        # compute BoW representation of the image (using the basic 'words', i.e. centroids, computed earlier)\n",
    "        bow = bag_of_words(centroids, img_descriptors, distance_metric)\n",
    "        # add the computed BoW vector to the set of map representations\n",
    "        if bow_map_images is None:\n",
    "            bow_map_images = bow\n",
    "        else:\n",
    "            bow_map_images = np.vstack( (bow_map_images, bow))\n",
    "\n",
    "    return bow_map_images"
   ],
   "metadata": {
    "collapsed": false
   }
  },
  {
   "cell_type": "code",
   "execution_count": 23,
   "outputs": [],
   "source": [
    "def recall_at_k(relevant, retrieved, k):\n",
    "    return np.sum(np.in1d(relevant, retrieved[:k])) / len(relevant)"
   ],
   "metadata": {
    "collapsed": false
   }
  },
  {
   "cell_type": "code",
   "execution_count": 24,
   "outputs": [],
   "source": [
    "def precision_at_k(relevant, retrieved, k):\n",
    "    tp = np.sum(np.in1d(relevant, retrieved[:k]))\n",
    "    return tp / k\n",
    "\n",
    "def average_precision(relevant, retrieved):\n",
    "    # BEGIN ANSWER\n",
    "    avg_prec = 0\n",
    "    for doc in relevant:\n",
    "        k = np.where(retrieved == doc)[0][0] + 1\n",
    "        avg_prec += precision_at_k(relevant, retrieved[:k], k)\n",
    "    return avg_prec/len(relevant)\n",
    "\n",
    "def mean_average_precision(all_relevant, all_retrieved):\n",
    "    # BEGIN ANSWER\n",
    "    total = 0\n",
    "    count = len(all_retrieved)\n",
    "\n",
    "    for qid in range(len(all_retrieved)):\n",
    "        avg_precision = average_precision(all_relevant[qid], all_retrieved[qid])\n",
    "        total += avg_precision\n",
    "    # END ANSWER\n",
    "    return total / count\n",
    "\n",
    "def average_recall_at_k(all_relevant, all_retrieved, k):\n",
    "    running_recall = 0\n",
    "    for relevant, retrieved in zip(all_relevant, all_retrieved):\n",
    "        r_k = recall_at_k(relevant, retrieved, k)\n",
    "        running_recall += r_k\n",
    "\n",
    "    return running_recall / len(all_relevant)"
   ],
   "metadata": {
    "collapsed": false
   }
  },
  {
   "cell_type": "code",
   "execution_count": 25,
   "outputs": [],
   "source": [
    "def run_all_queries(feature_extractor, centroids, distance_metric, scaler):\n",
    "    all_relevant_images = []\n",
    "    all_retrieved_images = []\n",
    "    for query_idx in tqdm(range(len(q_imgs))):\n",
    "        img = plt.imread(os.path.join(\"data02\", q_imgs[query_idx]))\n",
    "        img = rgb2gray(img)\n",
    "        # compute bag of words\n",
    "        query_img_descriptors = feature_extractor(img)\n",
    "        bow = bag_of_words(centroids, query_img_descriptors, distance_metric)\n",
    "\n",
    "        bow = scaler.transform(bow.reshape(-1, 1).transpose())\n",
    "        bow = bow.transpose().reshape(-1)\n",
    "\n",
    "        # Retrieve the indices of the top-10 similar images from the map\n",
    "        # retrieved_images = np.argsort(np.linalg.norm(bow_map_images - bow, axis=1))\n",
    "        dists = distance_metric(bow_map_images, bow)\n",
    "\n",
    "        retrieved_images = np.argsort(np.array(dists))\n",
    "        # retrieved_images = np.argsort(eucledian(bow_map_images, bow))\n",
    "    #     print('Indices of similar images retrieved: ', retrieved_images[:10])\n",
    "        all_retrieved_images.append(retrieved_images)\n",
    "        # Indices of the relevant map images for the query: we have the relevance judgements (Ground truth)\n",
    "        relevant_images = np.where(sim[query_idx, :] == 1)[0]\n",
    "    #     print('Indices of relevant images (given in the GT relevance judgements): ', relevant_images)\n",
    "        all_relevant_images.append(relevant_images)\n",
    "\n",
    "    return all_retrieved_images, all_relevant_images"
   ],
   "metadata": {
    "collapsed": false
   }
  },
  {
   "cell_type": "code",
   "execution_count": 26,
   "outputs": [
    {
     "data": {
      "text/plain": "  0%|          | 0/1000 [00:00<?, ?it/s]",
      "application/vnd.jupyter.widget-view+json": {
       "version_major": 2,
       "version_minor": 0,
       "model_id": "70d0b1c3db6a4ad4895f09ded77e7ee6"
      }
     },
     "metadata": {},
     "output_type": "display_data"
    },
    {
     "data": {
      "text/plain": "  0%|          | 0/1000 [00:00<?, ?it/s]",
      "application/vnd.jupyter.widget-view+json": {
       "version_major": 2,
       "version_minor": 0,
       "model_id": "4735d8af036648d1b503c622f3ea540a"
      }
     },
     "metadata": {},
     "output_type": "display_data"
    },
    {
     "data": {
      "text/plain": "  0%|          | 0/500 [00:00<?, ?it/s]",
      "application/vnd.jupyter.widget-view+json": {
       "version_major": 2,
       "version_minor": 0,
       "model_id": "0a6b5517eb7343038e9cb635c49be4a2"
      }
     },
     "metadata": {},
     "output_type": "display_data"
    },
    {
     "name": "stdout",
     "output_type": "stream",
     "text": [
      "-------------\n",
      "Feature type: extract_with_orb\n",
      "# of centroids: 10\n",
      "Distance metric: manhatten\n",
      "\n",
      "mAP: 0.0251674880713988\n",
      "Recall@1: 0.004842857142857142\n",
      "Recall@5: 0.013752331002331005\n",
      "Recall@10: 0.02000429178664473\n",
      "-------------\n"
     ]
    },
    {
     "data": {
      "text/plain": "  0%|          | 0/1000 [00:00<?, ?it/s]",
      "application/vnd.jupyter.widget-view+json": {
       "version_major": 2,
       "version_minor": 0,
       "model_id": "1605f4ee4f574c9ca426b880ea4e1cf4"
      }
     },
     "metadata": {},
     "output_type": "display_data"
    },
    {
     "data": {
      "text/plain": "  0%|          | 0/500 [00:00<?, ?it/s]",
      "application/vnd.jupyter.widget-view+json": {
       "version_major": 2,
       "version_minor": 0,
       "model_id": "4c81ce6804ce4fddbeb5462a43a7d6d0"
      }
     },
     "metadata": {},
     "output_type": "display_data"
    },
    {
     "name": "stdout",
     "output_type": "stream",
     "text": [
      "-------------\n",
      "Feature type: extract_with_orb\n",
      "# of centroids: 10\n",
      "Distance metric: infinity\n",
      "\n",
      "mAP: 0.022966680297401634\n",
      "Recall@1: 0.004462698412698412\n",
      "Recall@5: 0.01111870525988173\n",
      "Recall@10: 0.02212039017627252\n",
      "-------------\n"
     ]
    },
    {
     "data": {
      "text/plain": "  0%|          | 0/1000 [00:00<?, ?it/s]",
      "application/vnd.jupyter.widget-view+json": {
       "version_major": 2,
       "version_minor": 0,
       "model_id": "63cf528a5ada4e3aa8f5030381289c79"
      }
     },
     "metadata": {},
     "output_type": "display_data"
    },
    {
     "data": {
      "text/plain": "  0%|          | 0/500 [00:00<?, ?it/s]",
      "application/vnd.jupyter.widget-view+json": {
       "version_major": 2,
       "version_minor": 0,
       "model_id": "38cc840c4fc84ec484c3f9a667f04be9"
      }
     },
     "metadata": {},
     "output_type": "display_data"
    },
    {
     "name": "stdout",
     "output_type": "stream",
     "text": [
      "-------------\n",
      "Feature type: extract_with_orb\n",
      "# of centroids: 10\n",
      "Distance metric: cosine\n",
      "\n",
      "mAP: 0.022769958098497165\n",
      "Recall@1: 0.0027429217840982544\n",
      "Recall@5: 0.010071036262212736\n",
      "Recall@10: 0.021821596486302355\n",
      "-------------\n"
     ]
    },
    {
     "data": {
      "text/plain": "  0%|          | 0/1000 [00:00<?, ?it/s]",
      "application/vnd.jupyter.widget-view+json": {
       "version_major": 2,
       "version_minor": 0,
       "model_id": "22fc2c0c17b64b1b95be3454b1ae15b6"
      }
     },
     "metadata": {},
     "output_type": "display_data"
    },
    {
     "data": {
      "text/plain": "  0%|          | 0/500 [00:00<?, ?it/s]",
      "application/vnd.jupyter.widget-view+json": {
       "version_major": 2,
       "version_minor": 0,
       "model_id": "b4bf7fa0bee64df68da3fe99ffa4822c"
      }
     },
     "metadata": {},
     "output_type": "display_data"
    },
    {
     "name": "stdout",
     "output_type": "stream",
     "text": [
      "-------------\n",
      "Feature type: extract_with_orb\n",
      "# of centroids: 10\n",
      "Distance metric: eucledian\n",
      "\n",
      "mAP: 0.022677356197821914\n",
      "Recall@1: 0.0019\n",
      "Recall@5: 0.013665021906198378\n",
      "Recall@10: 0.025646954679307613\n",
      "-------------\n"
     ]
    },
    {
     "data": {
      "text/plain": "  0%|          | 0/1000 [00:00<?, ?it/s]",
      "application/vnd.jupyter.widget-view+json": {
       "version_major": 2,
       "version_minor": 0,
       "model_id": "d5fefada8778435b94e79467c094fe68"
      }
     },
     "metadata": {},
     "output_type": "display_data"
    },
    {
     "data": {
      "text/plain": "  0%|          | 0/500 [00:00<?, ?it/s]",
      "application/vnd.jupyter.widget-view+json": {
       "version_major": 2,
       "version_minor": 0,
       "model_id": "809ef98769a944478d91b06ccd2f0737"
      }
     },
     "metadata": {},
     "output_type": "display_data"
    },
    {
     "name": "stdout",
     "output_type": "stream",
     "text": [
      "-------------\n",
      "Feature type: extract_with_orb\n",
      "# of centroids: 30\n",
      "Distance metric: manhatten\n",
      "\n",
      "mAP: 0.027507417274331626\n",
      "Recall@1: 0.003638095238095238\n",
      "Recall@5: 0.019941456582633046\n",
      "Recall@10: 0.030829089211442142\n",
      "-------------\n"
     ]
    },
    {
     "data": {
      "text/plain": "  0%|          | 0/1000 [00:00<?, ?it/s]",
      "application/vnd.jupyter.widget-view+json": {
       "version_major": 2,
       "version_minor": 0,
       "model_id": "6ed8287c9afe434fa11fb1435153b813"
      }
     },
     "metadata": {},
     "output_type": "display_data"
    },
    {
     "data": {
      "text/plain": "  0%|          | 0/500 [00:00<?, ?it/s]",
      "application/vnd.jupyter.widget-view+json": {
       "version_major": 2,
       "version_minor": 0,
       "model_id": "d90b2b17bac74a7b9939542659e7f4cb"
      }
     },
     "metadata": {},
     "output_type": "display_data"
    },
    {
     "name": "stdout",
     "output_type": "stream",
     "text": [
      "-------------\n",
      "Feature type: extract_with_orb\n",
      "# of centroids: 30\n",
      "Distance metric: infinity\n",
      "\n",
      "mAP: 0.021719312233618112\n",
      "Recall@1: 0.002753571428571428\n",
      "Recall@5: 0.013058397974574443\n",
      "Recall@10: 0.020098404046933454\n",
      "-------------\n"
     ]
    },
    {
     "data": {
      "text/plain": "  0%|          | 0/1000 [00:00<?, ?it/s]",
      "application/vnd.jupyter.widget-view+json": {
       "version_major": 2,
       "version_minor": 0,
       "model_id": "f658cafbb0c748b282bc9e0363b32bd4"
      }
     },
     "metadata": {},
     "output_type": "display_data"
    },
    {
     "data": {
      "text/plain": "  0%|          | 0/500 [00:00<?, ?it/s]",
      "application/vnd.jupyter.widget-view+json": {
       "version_major": 2,
       "version_minor": 0,
       "model_id": "5cb6ba78fdc74707a157ee88762357c5"
      }
     },
     "metadata": {},
     "output_type": "display_data"
    },
    {
     "name": "stdout",
     "output_type": "stream",
     "text": [
      "-------------\n",
      "Feature type: extract_with_orb\n",
      "# of centroids: 30\n",
      "Distance metric: cosine\n",
      "\n",
      "mAP: 0.029978298575872902\n",
      "Recall@1: 0.0073026455026455024\n",
      "Recall@5: 0.013801058201058206\n",
      "Recall@10: 0.02525137155872448\n",
      "-------------\n"
     ]
    },
    {
     "data": {
      "text/plain": "  0%|          | 0/1000 [00:00<?, ?it/s]",
      "application/vnd.jupyter.widget-view+json": {
       "version_major": 2,
       "version_minor": 0,
       "model_id": "3c7c3ce82186430da2286680e9d0a458"
      }
     },
     "metadata": {},
     "output_type": "display_data"
    },
    {
     "data": {
      "text/plain": "  0%|          | 0/500 [00:00<?, ?it/s]",
      "application/vnd.jupyter.widget-view+json": {
       "version_major": 2,
       "version_minor": 0,
       "model_id": "464660cad3fc4bf38e0fe3cdf9cf5101"
      }
     },
     "metadata": {},
     "output_type": "display_data"
    },
    {
     "name": "stdout",
     "output_type": "stream",
     "text": [
      "-------------\n",
      "Feature type: extract_with_orb\n",
      "# of centroids: 30\n",
      "Distance metric: eucledian\n",
      "\n",
      "mAP: 0.026328925852484877\n",
      "Recall@1: 0.0048095238095238095\n",
      "Recall@5: 0.012530952380952387\n",
      "Recall@10: 0.028375461466637924\n",
      "-------------\n"
     ]
    },
    {
     "data": {
      "text/plain": "  0%|          | 0/1000 [00:00<?, ?it/s]",
      "application/vnd.jupyter.widget-view+json": {
       "version_major": 2,
       "version_minor": 0,
       "model_id": "a7586302552644c4afba2df69952c477"
      }
     },
     "metadata": {},
     "output_type": "display_data"
    },
    {
     "data": {
      "text/plain": "  0%|          | 0/500 [00:00<?, ?it/s]",
      "application/vnd.jupyter.widget-view+json": {
       "version_major": 2,
       "version_minor": 0,
       "model_id": "de8c9ee788e14df9bcaf3730408d18e6"
      }
     },
     "metadata": {},
     "output_type": "display_data"
    },
    {
     "name": "stdout",
     "output_type": "stream",
     "text": [
      "-------------\n",
      "Feature type: extract_with_orb\n",
      "# of centroids: 50\n",
      "Distance metric: manhatten\n",
      "\n",
      "mAP: 0.027522937205240027\n",
      "Recall@1: 0.005042250233426706\n",
      "Recall@5: 0.017774183006535944\n",
      "Recall@10: 0.025145059134765002\n",
      "-------------\n"
     ]
    },
    {
     "data": {
      "text/plain": "  0%|          | 0/1000 [00:00<?, ?it/s]",
      "application/vnd.jupyter.widget-view+json": {
       "version_major": 2,
       "version_minor": 0,
       "model_id": "72218561598d46e8bc0de1996a648085"
      }
     },
     "metadata": {},
     "output_type": "display_data"
    },
    {
     "data": {
      "text/plain": "  0%|          | 0/500 [00:00<?, ?it/s]",
      "application/vnd.jupyter.widget-view+json": {
       "version_major": 2,
       "version_minor": 0,
       "model_id": "e474f0e048794b4dac764e4cad8a2c24"
      }
     },
     "metadata": {},
     "output_type": "display_data"
    },
    {
     "name": "stdout",
     "output_type": "stream",
     "text": [
      "-------------\n",
      "Feature type: extract_with_orb\n",
      "# of centroids: 50\n",
      "Distance metric: infinity\n",
      "\n",
      "mAP: 0.02213998345551891\n",
      "Recall@1: 0.004523809523809524\n",
      "Recall@5: 0.009372397645927058\n",
      "Recall@10: 0.017741154379389674\n",
      "-------------\n"
     ]
    },
    {
     "data": {
      "text/plain": "  0%|          | 0/1000 [00:00<?, ?it/s]",
      "application/vnd.jupyter.widget-view+json": {
       "version_major": 2,
       "version_minor": 0,
       "model_id": "553493297de344dd8b1b7671beaa00ff"
      }
     },
     "metadata": {},
     "output_type": "display_data"
    },
    {
     "data": {
      "text/plain": "  0%|          | 0/500 [00:00<?, ?it/s]",
      "application/vnd.jupyter.widget-view+json": {
       "version_major": 2,
       "version_minor": 0,
       "model_id": "0481f82c39f640df9b56358dee34804e"
      }
     },
     "metadata": {},
     "output_type": "display_data"
    },
    {
     "name": "stdout",
     "output_type": "stream",
     "text": [
      "-------------\n",
      "Feature type: extract_with_orb\n",
      "# of centroids: 50\n",
      "Distance metric: cosine\n",
      "\n",
      "mAP: 0.030719792837923515\n",
      "Recall@1: 0.005094872393401805\n",
      "Recall@5: 0.01826861428332016\n",
      "Recall@10: 0.03249136560607146\n",
      "-------------\n"
     ]
    },
    {
     "data": {
      "text/plain": "  0%|          | 0/1000 [00:00<?, ?it/s]",
      "application/vnd.jupyter.widget-view+json": {
       "version_major": 2,
       "version_minor": 0,
       "model_id": "c73c55b39cea456991843df268620da1"
      }
     },
     "metadata": {},
     "output_type": "display_data"
    },
    {
     "data": {
      "text/plain": "  0%|          | 0/500 [00:00<?, ?it/s]",
      "application/vnd.jupyter.widget-view+json": {
       "version_major": 2,
       "version_minor": 0,
       "model_id": "4b4af8b91cc64aa4850682a246a263c5"
      }
     },
     "metadata": {},
     "output_type": "display_data"
    },
    {
     "name": "stdout",
     "output_type": "stream",
     "text": [
      "-------------\n",
      "Feature type: extract_with_orb\n",
      "# of centroids: 50\n",
      "Distance metric: eucledian\n",
      "\n",
      "mAP: 0.026260310247298583\n",
      "Recall@1: 0.0025\n",
      "Recall@5: 0.017478944911297856\n",
      "Recall@10: 0.030577357609710542\n",
      "-------------\n"
     ]
    },
    {
     "data": {
      "text/plain": "  0%|          | 0/1000 [00:00<?, ?it/s]",
      "application/vnd.jupyter.widget-view+json": {
       "version_major": 2,
       "version_minor": 0,
       "model_id": "a904b44710734e85a21ebab4d6f43b59"
      }
     },
     "metadata": {},
     "output_type": "display_data"
    },
    {
     "data": {
      "text/plain": "  0%|          | 0/1000 [00:00<?, ?it/s]",
      "application/vnd.jupyter.widget-view+json": {
       "version_major": 2,
       "version_minor": 0,
       "model_id": "63fda3bfe81a4beab15b1078bf430324"
      }
     },
     "metadata": {},
     "output_type": "display_data"
    },
    {
     "data": {
      "text/plain": "  0%|          | 0/500 [00:00<?, ?it/s]",
      "application/vnd.jupyter.widget-view+json": {
       "version_major": 2,
       "version_minor": 0,
       "model_id": "3b6fdc6223f049098739e6aa8e88fe37"
      }
     },
     "metadata": {},
     "output_type": "display_data"
    },
    {
     "name": "stdout",
     "output_type": "stream",
     "text": [
      "-------------\n",
      "Feature type: extract_with_sift\n",
      "# of centroids: 10\n",
      "Distance metric: manhatten\n",
      "\n",
      "mAP: 0.03450626281542902\n",
      "Recall@1: 0.0050728937728937735\n",
      "Recall@5: 0.022197569097569095\n",
      "Recall@10: 0.03605120516738161\n",
      "-------------\n"
     ]
    },
    {
     "data": {
      "text/plain": "  0%|          | 0/1000 [00:00<?, ?it/s]",
      "application/vnd.jupyter.widget-view+json": {
       "version_major": 2,
       "version_minor": 0,
       "model_id": "a73f86e27d0a4689b2ed11077c45bb1a"
      }
     },
     "metadata": {},
     "output_type": "display_data"
    },
    {
     "data": {
      "text/plain": "  0%|          | 0/500 [00:00<?, ?it/s]",
      "application/vnd.jupyter.widget-view+json": {
       "version_major": 2,
       "version_minor": 0,
       "model_id": "4db244ad1a85498cbe87d0101b62b59c"
      }
     },
     "metadata": {},
     "output_type": "display_data"
    },
    {
     "name": "stdout",
     "output_type": "stream",
     "text": [
      "-------------\n",
      "Feature type: extract_with_sift\n",
      "# of centroids: 10\n",
      "Distance metric: infinity\n",
      "\n",
      "mAP: 0.031180127122121978\n",
      "Recall@1: 0.00479471916971917\n",
      "Recall@5: 0.021100427350427345\n",
      "Recall@10: 0.03477085218702864\n",
      "-------------\n"
     ]
    },
    {
     "data": {
      "text/plain": "  0%|          | 0/1000 [00:00<?, ?it/s]",
      "application/vnd.jupyter.widget-view+json": {
       "version_major": 2,
       "version_minor": 0,
       "model_id": "090b5bd4455e46c8b2d3b4ba5928d2c5"
      }
     },
     "metadata": {},
     "output_type": "display_data"
    },
    {
     "data": {
      "text/plain": "  0%|          | 0/500 [00:00<?, ?it/s]",
      "application/vnd.jupyter.widget-view+json": {
       "version_major": 2,
       "version_minor": 0,
       "model_id": "467ba04a00fe4d67a0a74b17c7a9da9e"
      }
     },
     "metadata": {},
     "output_type": "display_data"
    },
    {
     "name": "stdout",
     "output_type": "stream",
     "text": [
      "-------------\n",
      "Feature type: extract_with_sift\n",
      "# of centroids: 10\n",
      "Distance metric: cosine\n",
      "\n",
      "mAP: 0.04174589207407814\n",
      "Recall@1: 0.00651031746031746\n",
      "Recall@5: 0.026438411261940672\n",
      "Recall@10: 0.04679875418698946\n",
      "-------------\n"
     ]
    },
    {
     "data": {
      "text/plain": "  0%|          | 0/1000 [00:00<?, ?it/s]",
      "application/vnd.jupyter.widget-view+json": {
       "version_major": 2,
       "version_minor": 0,
       "model_id": "32bb755fee4b45f48552ae62cc414ea9"
      }
     },
     "metadata": {},
     "output_type": "display_data"
    },
    {
     "data": {
      "text/plain": "  0%|          | 0/500 [00:00<?, ?it/s]",
      "application/vnd.jupyter.widget-view+json": {
       "version_major": 2,
       "version_minor": 0,
       "model_id": "9c3e45c1d84f462a8da1ea89fd7ce22a"
      }
     },
     "metadata": {},
     "output_type": "display_data"
    },
    {
     "name": "stdout",
     "output_type": "stream",
     "text": [
      "-------------\n",
      "Feature type: extract_with_sift\n",
      "# of centroids: 10\n",
      "Distance metric: eucledian\n",
      "\n",
      "mAP: 0.0375270778727779\n",
      "Recall@1: 0.006586580086580086\n",
      "Recall@5: 0.02481887556887556\n",
      "Recall@10: 0.04408958263958261\n",
      "-------------\n"
     ]
    },
    {
     "data": {
      "text/plain": "  0%|          | 0/1000 [00:00<?, ?it/s]",
      "application/vnd.jupyter.widget-view+json": {
       "version_major": 2,
       "version_minor": 0,
       "model_id": "900e20c7f8334d32a4c320425e4f76e9"
      }
     },
     "metadata": {},
     "output_type": "display_data"
    },
    {
     "data": {
      "text/plain": "  0%|          | 0/500 [00:00<?, ?it/s]",
      "application/vnd.jupyter.widget-view+json": {
       "version_major": 2,
       "version_minor": 0,
       "model_id": "cfd8d0bfe368437793526947df696bcc"
      }
     },
     "metadata": {},
     "output_type": "display_data"
    },
    {
     "name": "stdout",
     "output_type": "stream",
     "text": [
      "-------------\n",
      "Feature type: extract_with_sift\n",
      "# of centroids: 30\n",
      "Distance metric: manhatten\n",
      "\n",
      "mAP: 0.0408721346602413\n",
      "Recall@1: 0.009054761904761904\n",
      "Recall@5: 0.028164472455648914\n",
      "Recall@10: 0.0475313258636788\n",
      "-------------\n"
     ]
    },
    {
     "data": {
      "text/plain": "  0%|          | 0/1000 [00:00<?, ?it/s]",
      "application/vnd.jupyter.widget-view+json": {
       "version_major": 2,
       "version_minor": 0,
       "model_id": "2919b94e9d654610bfd1e805685cb314"
      }
     },
     "metadata": {},
     "output_type": "display_data"
    },
    {
     "data": {
      "text/plain": "  0%|          | 0/500 [00:00<?, ?it/s]",
      "application/vnd.jupyter.widget-view+json": {
       "version_major": 2,
       "version_minor": 0,
       "model_id": "8341318c4cda4d4e849106c1084e6188"
      }
     },
     "metadata": {},
     "output_type": "display_data"
    },
    {
     "name": "stdout",
     "output_type": "stream",
     "text": [
      "-------------\n",
      "Feature type: extract_with_sift\n",
      "# of centroids: 30\n",
      "Distance metric: infinity\n",
      "\n",
      "mAP: 0.03016475203586035\n",
      "Recall@1: 0.004585714285714287\n",
      "Recall@5: 0.019653846153846157\n",
      "Recall@10: 0.03610562019679666\n",
      "-------------\n"
     ]
    },
    {
     "data": {
      "text/plain": "  0%|          | 0/1000 [00:00<?, ?it/s]",
      "application/vnd.jupyter.widget-view+json": {
       "version_major": 2,
       "version_minor": 0,
       "model_id": "22196f6b37964d09ba8a77d75a439178"
      }
     },
     "metadata": {},
     "output_type": "display_data"
    },
    {
     "data": {
      "text/plain": "  0%|          | 0/500 [00:00<?, ?it/s]",
      "application/vnd.jupyter.widget-view+json": {
       "version_major": 2,
       "version_minor": 0,
       "model_id": "b512884aa6d346a9bb098621dc0946b0"
      }
     },
     "metadata": {},
     "output_type": "display_data"
    },
    {
     "name": "stdout",
     "output_type": "stream",
     "text": [
      "-------------\n",
      "Feature type: extract_with_sift\n",
      "# of centroids: 30\n",
      "Distance metric: cosine\n",
      "\n",
      "mAP: 0.05485412416593428\n",
      "Recall@1: 0.014490266106442579\n",
      "Recall@5: 0.03549752567693743\n",
      "Recall@10: 0.052732536417830524\n",
      "-------------\n"
     ]
    },
    {
     "data": {
      "text/plain": "  0%|          | 0/1000 [00:00<?, ?it/s]",
      "application/vnd.jupyter.widget-view+json": {
       "version_major": 2,
       "version_minor": 0,
       "model_id": "a8787759b3db4b29bab2781bdefdb317"
      }
     },
     "metadata": {},
     "output_type": "display_data"
    },
    {
     "data": {
      "text/plain": "  0%|          | 0/500 [00:00<?, ?it/s]",
      "application/vnd.jupyter.widget-view+json": {
       "version_major": 2,
       "version_minor": 0,
       "model_id": "9b6ee6d2e76f4d5dabe9e891171ccbf3"
      }
     },
     "metadata": {},
     "output_type": "display_data"
    },
    {
     "name": "stdout",
     "output_type": "stream",
     "text": [
      "-------------\n",
      "Feature type: extract_with_sift\n",
      "# of centroids: 30\n",
      "Distance metric: eucledian\n",
      "\n",
      "mAP: 0.04369101592253944\n",
      "Recall@1: 0.010204761904761906\n",
      "Recall@5: 0.03235912698412698\n",
      "Recall@10: 0.04909548947784239\n",
      "-------------\n"
     ]
    },
    {
     "data": {
      "text/plain": "  0%|          | 0/1000 [00:00<?, ?it/s]",
      "application/vnd.jupyter.widget-view+json": {
       "version_major": 2,
       "version_minor": 0,
       "model_id": "103500948da642abbec0ccfb67f223af"
      }
     },
     "metadata": {},
     "output_type": "display_data"
    },
    {
     "data": {
      "text/plain": "  0%|          | 0/500 [00:00<?, ?it/s]",
      "application/vnd.jupyter.widget-view+json": {
       "version_major": 2,
       "version_minor": 0,
       "model_id": "7515355551094c4e9ea8b9730cd164de"
      }
     },
     "metadata": {},
     "output_type": "display_data"
    },
    {
     "name": "stdout",
     "output_type": "stream",
     "text": [
      "-------------\n",
      "Feature type: extract_with_sift\n",
      "# of centroids: 50\n",
      "Distance metric: manhatten\n",
      "\n",
      "mAP: 0.04243599542954771\n",
      "Recall@1: 0.007950793650793651\n",
      "Recall@5: 0.0288876984126984\n",
      "Recall@10: 0.05014428882664175\n",
      "-------------\n"
     ]
    },
    {
     "data": {
      "text/plain": "  0%|          | 0/1000 [00:00<?, ?it/s]",
      "application/vnd.jupyter.widget-view+json": {
       "version_major": 2,
       "version_minor": 0,
       "model_id": "46b4e2cd164e433aa6c724b841034758"
      }
     },
     "metadata": {},
     "output_type": "display_data"
    },
    {
     "data": {
      "text/plain": "  0%|          | 0/500 [00:00<?, ?it/s]",
      "application/vnd.jupyter.widget-view+json": {
       "version_major": 2,
       "version_minor": 0,
       "model_id": "7d45ffe740354120a3ea09643bd78f0b"
      }
     },
     "metadata": {},
     "output_type": "display_data"
    },
    {
     "name": "stdout",
     "output_type": "stream",
     "text": [
      "-------------\n",
      "Feature type: extract_with_sift\n",
      "# of centroids: 50\n",
      "Distance metric: infinity\n",
      "\n",
      "mAP: 0.030491810255927787\n",
      "Recall@1: 0.006600094350094351\n",
      "Recall@5: 0.01905046783282077\n",
      "Recall@10: 0.032184781558310956\n",
      "-------------\n"
     ]
    },
    {
     "data": {
      "text/plain": "  0%|          | 0/1000 [00:00<?, ?it/s]",
      "application/vnd.jupyter.widget-view+json": {
       "version_major": 2,
       "version_minor": 0,
       "model_id": "9489dba8038f427eb06ba6d29a79c4ab"
      }
     },
     "metadata": {},
     "output_type": "display_data"
    },
    {
     "data": {
      "text/plain": "  0%|          | 0/500 [00:00<?, ?it/s]",
      "application/vnd.jupyter.widget-view+json": {
       "version_major": 2,
       "version_minor": 0,
       "model_id": "f1565534085046d29868b33b2d1e3526"
      }
     },
     "metadata": {},
     "output_type": "display_data"
    },
    {
     "name": "stdout",
     "output_type": "stream",
     "text": [
      "-------------\n",
      "Feature type: extract_with_sift\n",
      "# of centroids: 50\n",
      "Distance metric: cosine\n",
      "\n",
      "mAP: 0.06279949662429402\n",
      "Recall@1: 0.01472219887955182\n",
      "Recall@5: 0.039534502588914354\n",
      "Recall@10: 0.06838142853878147\n",
      "-------------\n"
     ]
    },
    {
     "data": {
      "text/plain": "  0%|          | 0/1000 [00:00<?, ?it/s]",
      "application/vnd.jupyter.widget-view+json": {
       "version_major": 2,
       "version_minor": 0,
       "model_id": "73e5daabc8114ac4a51f5b5543de0ab8"
      }
     },
     "metadata": {},
     "output_type": "display_data"
    },
    {
     "data": {
      "text/plain": "  0%|          | 0/500 [00:00<?, ?it/s]",
      "application/vnd.jupyter.widget-view+json": {
       "version_major": 2,
       "version_minor": 0,
       "model_id": "19f2c3ed798643a38c2e69002114d1a9"
      }
     },
     "metadata": {},
     "output_type": "display_data"
    },
    {
     "name": "stdout",
     "output_type": "stream",
     "text": [
      "-------------\n",
      "Feature type: extract_with_sift\n",
      "# of centroids: 50\n",
      "Distance metric: eucledian\n",
      "\n",
      "mAP: 0.04725453894508526\n",
      "Recall@1: 0.011248412698412697\n",
      "Recall@5: 0.03212289377289377\n",
      "Recall@10: 0.0571637814799579\n",
      "-------------\n"
     ]
    }
   ],
   "source": [
    "for feature_extractor in [extract_with_orb, extract_with_sift]:\n",
    "    descriptors = extract_all_descriptors(feature_extractor)\n",
    "    for n_centroids in [10, 30, 50]:\n",
    "        centroids = find_centroids(descriptors, n_centroids)\n",
    "\n",
    "        for distance_metric in [manhatten, infinity, cosine, eucledian]:\n",
    "            bow_map_images = create_all_bow_vectors(feature_extractor, centroids, distance_metric)\n",
    "\n",
    "            scaler = preprocessing.StandardScaler()\n",
    "            bow_map_images = scaler.fit_transform(bow_map_images)\n",
    "\n",
    "            all_retrieved_images, all_relevant_images = run_all_queries(feature_extractor, centroids, distance_metric, scaler)\n",
    "\n",
    "            print(\"-------------\")\n",
    "            print(f\"Feature type: {feature_extractor.__name__}\")\n",
    "            print(f\"# of centroids: {n_centroids}\")\n",
    "            print(f\"Distance metric: {distance_metric.__name__}\")\n",
    "            print(\"\")\n",
    "            mAP = mean_average_precision(all_relevant_images, all_retrieved_images)\n",
    "            print(f\"mAP: {mAP}\")\n",
    "            for k in [1, 5, 10]:\n",
    "                r_k = average_recall_at_k(all_relevant_images, all_retrieved_images, k)\n",
    "                print(f\"Recall@{k}: {r_k}\")\n",
    "\n",
    "            print(\"-------------\")"
   ],
   "metadata": {
    "collapsed": false
   }
  },
  {
   "cell_type": "code",
   "execution_count": 26,
   "outputs": [],
   "source": [],
   "metadata": {
    "collapsed": false
   }
  }
 ],
 "metadata": {
  "kernelspec": {
   "display_name": "Python 3",
   "language": "python",
   "name": "python3"
  },
  "language_info": {
   "codemirror_mode": {
    "name": "ipython",
    "version": 2
   },
   "file_extension": ".py",
   "mimetype": "text/x-python",
   "name": "python",
   "nbconvert_exporter": "python",
   "pygments_lexer": "ipython2",
   "version": "2.7.6"
  }
 },
 "nbformat": 4,
 "nbformat_minor": 0
}